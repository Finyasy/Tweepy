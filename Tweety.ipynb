{
 "cells": [
  {
   "cell_type": "code",
   "execution_count": 1,
   "metadata": {},
   "outputs": [],
   "source": [
    "#import tweepy and add our own authentication info\n",
    "import os\n",
    "import pandas as pd\n",
    "import matplotlib.pyplot as plt\n",
    "import seaborn as sns\n",
    "import itertools\n",
    "import collections\n",
    "\n",
    "import tweepy\n",
    "import nltk\n",
    "from nltk.corpus import stopwords\n",
    "import re\n",
    "import networkx\n",
    "from textblob import TextBlob\n",
    "\n",
    "import warnings\n",
    "warnings.filterwarnings(\"ignore\")\n",
    "\n",
    "sns.set(font_scale=1.5)\n",
    "sns.set_style(\"whitegrid\")"
   ]
  },
  {
   "cell_type": "code",
   "execution_count": 2,
   "metadata": {},
   "outputs": [],
   "source": [
    "#Add my own authentication info\n",
    "consumer_key=\"WraYL80IWfQ5F1IN9A85LV1rq\"\n",
    "consumer_secret=\"yDATyXlaGFB2AGbHhkc8afAQBfDarXNyWqlY4wjOoKOkdj9joF\"\n",
    "access_token=\"427308735-hhIqFaBP0jNCvvhtzNyTZjVJGxfnEaPi91a2QObq\"\n",
    "access_token_secret=\"AQeZUeUxNLkjwB1tvIUQXBJfbAEEsuer8KIhJfs8QIO66\""
   ]
  },
  {
   "cell_type": "code",
   "execution_count": 3,
   "metadata": {},
   "outputs": [],
   "source": [
    "#Creating the authentication object\n",
    "auth = tweepy.OAuthHandler(consumer_key, consumer_secret)\n",
    "\n",
    "#setting your access token and secret\n",
    "auth.set_access_token(access_token,access_token_secret)\n",
    "\n",
    "#Creating the API object while passing in auth information\n",
    "api=tweepy.API(auth)"
   ]
  },
  {
   "cell_type": "code",
   "execution_count": 4,
   "metadata": {},
   "outputs": [
    {
     "name": "stdout",
     "output_type": "stream",
     "text": [
      "RT @roanbirgen: Diversion from #FuelHike ishaiva...Tuju ametoa jikoni sasa iko mezani.\n",
      "\n",
      "Karibuni. https://t.co/sOlCitU5c8\n",
      "RT @wholetruthy: #Covid_19 Have you noticed this is the outline of every script in #Hollywood today 1) Nazi villain 2) Commie hero 3) Oppre…\n",
      "RT @chuckwoolery: According to MSM poll, 46% of Republicans refuse to take Covid shot. Add super spreader to that claim of domestic terrori…\n",
      "RT @TapasCielo: The Great luxury Brands Bottle offers all day.\n",
      "Bring back the good time's 🥂\n",
      "\n",
      "#ciroc #johnniewalker #singlemalt #singleton #…\n",
      "RT @johnnjenga: Punishing Kenyan citizens\n",
      "\n",
      "#UhuruMalizaUende https://t.co/AojUy4rYuV\n",
      "RT @GregoryRogers7: This will bring the low wage , working people trying to survive to their knees. Specifically designed to remove them fr…\n",
      "RT @TheScore01: So Super Freddie Lampard is in the world. \n",
      "\n",
      "In 2041 he’ll be breaking into the Chelsea first team, by then managed by Chels…\n",
      "RT @EliseStefanik: Only in NY do the Albany Democrats get a &gt;$12B taxpayer funded federal bailout &amp; then turn around and raise taxes on NYe…\n",
      "NO COMPARING https://t.co/K6k4qm0Jau https://t.co/1qjAchL19V\n",
      "\"And then our paths diverged. Riz has spent the past 5 years winning an Emmy, getting nominated for an Oscar, &amp; app… https://t.co/RDFG0uQmaH\n",
      "RT @miamijj48: @JackPosobiec We are Cuba. 👏 👏 👏\n",
      "RT @BecketAdams: you all are missing the real story  re: WaPo's correction of its Trump/Ga. investigations chief \"scoop.\"\n",
      "\n",
      "the real scandal…\n",
      "RT @reen_nkirote: Good morning hustlers https://t.co/FxwdaTbRnz\n",
      "RT @yohiobaseball: .@TheLastRefuge2 Phony outraged UniParty Repubs visit &amp; complain abt border, even though they’re to blame for NEVER FIXI…\n",
      "RT @ajplus: Spain is set to test a 4-day workweek that would give workers 32-hour weeks with no reduction in pay. The government will cover…\n",
      "RT @SchmittNYC: Lovely culture we have today https://t.co/wRRNeAeVtD\n",
      "I realize that Twitter makes all of this content short-lived and hard to find.\n",
      "\n",
      "So I decided to turn these threads… https://t.co/GFv2vxlx36\n",
      "RT @Clayburn: @InNeverland_ While I'm not suggesting Bill Burr is a racist, a white man having a non-white wife can sometimes be a sign of…\n",
      "RT @MrAndyNgo: .@gofundme’s policy states that it doesn’t allow fundraising for people accused of violent crimes. And yet, accused BLM-anti…\n"
     ]
    }
   ],
   "source": [
    "# Using the API object to get tweets from your timeline, and storing it in a variable called public_tweets\n",
    "public_tweets=api.home_timeline()\n",
    "\n",
    "## for each through all tweets pulled\n",
    "for tweet in public_tweets:\n",
    "    \n",
    "    # printing the text stored inside the tweet object\n",
    "    print (tweet.text)"
   ]
  },
  {
   "cell_type": "code",
   "execution_count": 5,
   "metadata": {},
   "outputs": [
    {
     "name": "stdout",
     "output_type": "stream",
     "text": [
      "2021-03-16 00:26:59\n"
     ]
    }
   ],
   "source": [
    "#Query the date the tweet was created\n",
    "print (tweet.created_at)"
   ]
  },
  {
   "cell_type": "code",
   "execution_count": 6,
   "metadata": {},
   "outputs": [
    {
     "name": "stdout",
     "output_type": "stream",
     "text": [
      "Steph98706\n"
     ]
    }
   ],
   "source": [
    "#Query the “name” and “location” attribute of the tweeter\n",
    "print (tweet.user.screen_name)"
   ]
  },
  {
   "cell_type": "code",
   "execution_count": 7,
   "metadata": {},
   "outputs": [
    {
     "name": "stdout",
     "output_type": "stream",
     "text": [
      "\n"
     ]
    }
   ],
   "source": [
    "print (tweet.user.location)"
   ]
  },
  {
   "cell_type": "code",
   "execution_count": 8,
   "metadata": {},
   "outputs": [
    {
     "name": "stdout",
     "output_type": "stream",
     "text": [
      "RT @Reuters: mRNA vaccines spur lymph nodes for longer-term protection; COVID-19 test accuracy may vary by time of day https://t.co/WqhgwFe…\n",
      "RT @alykhansatchu: ''Africa's Youth's Future is not in America and Europe Its in Africa'' says @akin_adesina @AfDB_Group #2021AEO\n",
      "https://t…\n",
      "RT @NationAfrica: The five women watching over Kenya’s public purse https://t.co/XiIRGFw6iw\n",
      "RT @CapitalFMKenya: Kenyans online slam publicity-seeking MPs for shedding crocodile tears over fuel prices https://t.co/SMUfVlxCtr\n",
      "RT @wmnjoya: \"But for many of us around the world, the insidious work of empire lives on in the draconian education systems, the artifacts…\n",
      "RT @bonifacemwangi: Murder most foul. A state witness murdered. In February, l met a young man who is to testify against a governor’s murde…\n",
      "Over to you @ODPP_KE https://t.co/huxDcSltR9\n",
      "RT @AJEnglish: Kremlin critic Alexey Navalny says he was locked up in a “real concentration camp” https://t.co/ED00LKWFB1 https://t.co/p1Ie…\n",
      "Hear ye @MOH_Kenya @mutahikagwe_cs @StateHouseKenya @KenyaMedics_KMA @kmpdu https://t.co/Dgb8z7LMi4\n",
      "RT @fisayosoyombo: Ajima couldn't get pregnant after her cervix was cut in error. Her surrogate in-law has now been paralysed by the same h…\n",
      "RT @ntvuganda: AS IT HAPPENED: This is what our cameras captured as @NUP_Ug President Robert Kyagulanyi and some party members were arreste…\n",
      "RT @HEBobiwine: Here is how Bobi Wine was arrested for leading a peaceful demonstration against the abductions, torture and murder of suppo…\n",
      "⁦@StateHouseKenya⁩ ⁦@EPRA_Ke⁩  what is the justification? https://t.co/YfUTeHSYzo\n",
      "@ODPP_KE We need an update on this @fidakenya @CREAWKenya @thekhrc\n",
      "RT @ODPP_KE: Further, the DPP has directed ✍️that investigations be undertaken with regard to an incident visible on a video clip circulati…\n",
      "@UN_Women @UN @antonioguterres @phumzileunwomen FYI https://t.co/9rzTK2PtEF\n",
      "RT @katibainstitute: \"Dear Waheshimiwa,\n",
      "\n",
      "I write in response to your press advertisement asking for public input on the Constitution (Amend…\n",
      "RT @SuzanneJambo: RIP🌹 Kenya’s Prof. Norah Olembo, one of Africa’s’s finest scientists. She was the Executive Director of African Biotechno…\n",
      "Terrible @citizentvkenya https://t.co/8QSZ7T5LT5\n",
      "@ahmednasirlaw @WMutunga @SylviaKangara Have no issue with quotes so long as judgment is well reasoned\n",
      "RT @citizentvkenya: Ventilator pipe dream:\n",
      "\n",
      "16 Kenyatta university students who developed a ventilator yet to get approval. A gov't process…\n",
      "RT @narckenya: \" If truly the BBI is about uniting the people of Kenya, why are groups within Jubilee fighting? Why is there disunity among…\n",
      "RT @domesticworkers: This 2021 stimulus package is not like the 2020 ones — if you are undocumented, you are eligible for a stimulus check…\n",
      "RT @Maskani254: Indeed. However, the BBI seems to have been a truce between two antagonists and pointed against the people's constitution f…\n",
      "RT @narckenya: Join the conversation on Inooro's Kiririmbi show from 7.30pm-9pm tonight as Hon @MarthaKarua   continues to demystify the cl…\n",
      "RT @bonifacemwangi: Kenyans On Twitter (KOT) Bureau of Investigations please help identify and locate the owner of KCQ 997Q, the driver was…\n",
      "RT @mmnjug: Primecuts Kanairo.... https://t.co/MrUXYOTWCo\n",
      "RT @bonifacemwangi: Kisii town is beautiful and full. It's overflowing with people and buildings. Soon Kisii town will become a city, it's…\n",
      "RT @NationAfrica: Mariga Thoithi: It takes a strong man to walk away from toxic family members\n",
      "#SatMag \n",
      "https://t.co/iHsoNXfZid\n",
      "Truth comes at a cost sometimes https://t.co/RpVik17cYU\n",
      "Belated happy birthday to the lovely trio! Many happy returns. https://t.co/tDsLlV9dtT\n",
      "Spot on https://t.co/li0f82P31t\n",
      "RT @Winnie_Byanyima: Women make up only 25% of parliamentarians globally, and only three countries have 50% or more women in parliament.\n",
      "\n",
      "#…\n",
      "RT @cobbo3: When Tanzania’s Roman Catholic Church, to which ailing Magufuli belongs, pushed back on his claim that prayer had defeated the…\n",
      "RT @davidmakali1: @skmusyoka Lead us unto death!\n",
      "RT @KBCChannel1: Italy tightens restrictions amid 'new wave' https://t.co/QshAeaGA9W\n",
      "@just_sham_it poleni sana. May God grant you healing .\n",
      "RT @AJEnglish: Local NGOs say trying to convince communities to stop banishing women and children of incest is nearly impossible, due to en…\n",
      "RT @Oxfam: The #COVID19 pandemic has hit #Africa less severely than was initially feared. \n",
      "\n",
      "*But* the consequences of the crisis are huge:…\n",
      "RT @BD_Africa: Ex-Treasury boss loses apartments, five cars over Anglo Leasing scam\n",
      "https://t.co/GC2aeyh8JQ https://t.co/OyajUX5U07\n",
      "RT @Reuters: Women in Britain poured out their fears and anger over how unsafe they feel walking the streets after the disappearance of a w…\n",
      "Congrats @wawiranjiru keep shining https://t.co/K1toVz95mZ\n",
      "RT @NationAfrica: Make peace to save Kenya, church council tells Uhuru Kenyatta, William Ruto\n",
      "https://t.co/M9ms5VbIdx https://t.co/tVAkSgM9…\n",
      "RT @AJEnglish: Bulgaria is the latest European country to halt the AstraZeneca vaccine, but WHO says there is no need https://t.co/smflr925…\n",
      "RT @Reuters: U.S. joins West in rare criticism of Egypt on human rights abuses https://t.co/HhtsOJuMk3 https://t.co/pCnord7VFx\n",
      "Indeed chose life over BBI and prioritize investing in our health care system, UHC , vaccines ,livelihoods for the… https://t.co/wy9TzalTFr\n",
      "RT @narckenya: It is the young people of this nation that look forward to building a nation where their dreams can be achieved and their ef…\n",
      "RT @SylviaKangara: UAE: the VIP vaccination destination \n",
      "“Wealthy vaccine tourists often arrive in private jets, said one businessperson wh…\n",
      "RT @theelephantinfo: MARTHA KARUA: What #LindaKatiba Is, and Why It Matters \n",
      "@MarthaKarua https://t.co/oDWwjqKBlr\n",
      "RT @NdunguWainaina: Whatever Uhuru Kenyatta @StateHouseKenya says, Kenyans must stand up to him. #Covid19 solution is addressing lives, liv…\n",
      "RT @CapitalFMKenya: Urgent #BloodAppeal: James M. Gachunga, hospitalized at Kenyatta Hospital, is in urgent need of 60 pints of blood for p…\n",
      "@StateHouseKenya FYI https://t.co/zVom3IXFM0\n",
      "RT @IdahKnowles: This is not only unconscionable,but severely restricts thediscretionary funds available for servicedelivery tocitizens esp…\n",
      "RT @IdahKnowles: @nationalwomenke:Kenya’s debt problem is as a result of deficits which are in turn as a result of high and irresponsible,…\n",
      "RT @IdahKnowles: As Kenya’s public debt continues to grow,debt repayment obligations are also rising,with the debt repayments for the comin…\n",
      "What @ForeignOfficeKE ? https://t.co/PDRLzvbMB3\n",
      "Exploiting would be more appropriate https://t.co/gOzeePtL7l\n",
      "RT @ICJKenya: \"In you I saw a father - I appreciate your fidelity to the rule of law and your fight for #JudicialIndepence.\"\n",
      "\n",
      "Nairobi Women…\n",
      "RT @StandardKenya: Court of Appeal has lifted orders barring the National Bank of Kenya from selling late Mombasa Tycoon Tahir Sheikh Said…\n",
      "RT @Reuters: Tanzania opposition leader says Magufuli in India with COVID-19 https://t.co/cszNKPRhTM https://t.co/QCJhZzdvEM\n",
      "RT @KPurity18: We @katibainstitute \"lionize you (@dkmaraga) for your indefatigable efforts to protect the sanctity and authority of the Con…\n",
      "RT @thekhrc: Lady Justice Maureen Onyango - \"Under Justice Maraga, the judiciary has embraced and implemented technology promoting access t…\n",
      "RT @citizentvkenya: Denmark suspends AstraZeneca vaccine after blood clot reports\n",
      "https://t.co/K2mXvV7KJj\n",
      "You now are being misogynist. Such sentences occur in deserved case so get the facts right ! https://t.co/skfU3utg0h\n",
      "RT @AmnestyKenya: .@AmnestyKenya joins civic and human rights organisations this afternoon in thanking @dkmaraga for his tour of service to…\n",
      "Hear ye @KenyaTreasury @StateHouseKenya https://t.co/LR2mjiPNu0\n",
      "RT @StandardKenya: Deputy President William Ruto has cautioned the National Police Service and the Judiciary officers against being partisa…\n",
      "RT @lookuptv: Instead of the BBI fixing the electoral process, they are just putting additional seats for people to share at the National L…\n",
      "RT @ICJKenya: In 2017, @ICJKenya recognised CJ @dkmaraga as an exceptional Jurist for his dedication to upholding democracy, justice and th…\n",
      "As a senior member i endorse it @OAmollo https://t.co/4hUJUsMnGH\n",
      "RT @davidmakali1: Civil society farewell luncheon for former Chief Justice @dkmaraga currently underway...➡️ \n",
      "Join us live here: https://t.…\n",
      "RT @Maskani254: The proponents of BBI, especially the president already went against the very document when the executive bribed MCAs. BBI…\n",
      "RT @NationBreaking: FOUR STUDENTS of Bishop Gatimu Ngandu Girls School in Nyeri test positive for Covid-19, County Commissioner Lyford Kiba…\n",
      "RT @ntvkenya: Royal family contests Harry and Meghan's racism claims\n",
      "\n",
      "https://t.co/tCn20wa1st https://t.co/EfP83YqKYP\n",
      "RT @NationAfrica: Kenya approves use of controversial Russian Covid-19 vaccine\n",
      "\n",
      "Russian Direct Investment Fund (RDIF), the country's sovere…\n",
      "@KenyaMedics_KMA @kmpdu @mutahikagwe_cs  @MOH_Kenya @StateHouseKenya FYI https://t.co/DzDOBN3XXu\n",
      "At the Kempinski Nairobi in a luncheon to fete @dkmaraga CJ Emeritus for his distinguished service to kenyans #JajiMkuu @ICJKenya @thekhrc\n",
      "Congrats Aluta Continua https://t.co/jWyoPvZgqa\n",
      "RT @LindaKatiba: BBI initiative is about defending this untenable parasitic model and that is why it is being led and defended not only by…\n",
      "RT @NationAfrica: First female bishop of the Anglican Church opens up on equality #NationGender  https://t.co/Q1pOInia02 https://t.co/c2bTA…\n",
      "RT @AJEnglish: Israel arrests former Grand Mufti of Jerusalem Ikrima Sabri from his house in occupied East Jerusalem https://t.co/JRVAiDuCc…\n",
      "RT @makaumutua: Very sad — it’s not a good year for powerful men in East Africa. https://t.co/uJ9iF185aU\n",
      "RT @Reuters: Donald Trump’s former lawyer and fixer, Michael Cohen, said he would go in for a seventh interview with the Manhattan district…\n",
      "RT @StandardKenya: Millions of websites offline after fire at French cloud services firm\n",
      "https://t.co/jI6pLhpcoS\n",
      "RT @shailjapatel: \"When the British Empire was at its height, the Crown ruled lucratively over 412 million people across one quarter of the…\n",
      "RT @SylviaKangara: I still can’t get over the fact that one of the candidates for position of Chief Justice of Kenya holds a doctorate from…\n",
      "RT @Zinduko: Very important discussion coming up. Please join @OkoaMombasa on this one...\n",
      "https://t.co/ZGWgu3mMC7\n",
      "RT @NationAfrica: Uhuru using BBI to extend his stay in power, says Karua https://t.co/b2ae3DW53a\n",
      "RT @citizentvkenya: Milimani Law Court, Family Division closed for a week to quarantine after three staff test positive for COVID-19, Actin…\n",
      "RT @wmnjoya: The Sussexes: Between Queen Elizabeth and Queen Oprah - Wandia Njoya https://t.co/gzeM7mhIO2\n",
      "RT @BBCAfrica: Tanzanian President John Magufuli 'in Kenyan hospital with Covid' https://t.co/nuOMvmTDgB\n",
      "RT @andrewsuleh: Current #covid19ke testing positivity rate is the highest since the schools re opened in January at 14% reports @MOH_Kenya\n",
      "RT @bonifacemwangi: @mwabilimwagodi @MarthaKarua If you know what she did, provide evidence. Mdomo tu bila evidence ndio mingi kwa mtandao.\n",
      "RT @Mavua: @JerotichSeii @Ahalake @MarthaKarua And just to be clear, #LindaKatiba isn't about Martha Karua, its about protecting the 2010 C…\n",
      "@SuleimanHamisi1 Great call Rosa on 0720949230\n",
      "RT @NdunguWainaina: Six new judges of the International Criminal Court (ICC) were sworn during a ceremony held at the seat of the Court in…\n",
      "RT @StandardKenya: CS Kagwe raises alarm as third wave of Covid-19 infections hits https://t.co/H6WerVju7u\n",
      "RT @NationAfrica: Back to the heated debate in Parliament in 2009, Mr Ruto, then Agriculture minister, also backed Mr Kenyatta’s call for f…\n",
      "RT @NthabiWabi: \"South African police killed someone every 20 hours last year on average, according to statistics released late last year b…\n",
      "RT @AJEnglish: UK COVID variant up to 100% more deadly than earlier variants, finds study https://t.co/0Q8rklfpM4 https://t.co/v5mhXwyC48\n"
     ]
    }
   ],
   "source": [
    "# Creating the API object while passing in auth information\n",
    "api=tweepy.API(auth)\n",
    "\n",
    "# The Twitter user who we want to get tweets from \n",
    "name = \"MarthaKarua\"\n",
    "\n",
    "#No. of tweets to pull\n",
    "tweetCount=100\n",
    "\n",
    "# Calling the user_timeline function with our parameters\n",
    "results=api.user_timeline(id=name,count=tweetCount)\n",
    "\n",
    "for tweet in results:\n",
    "    print (tweet.text)"
   ]
  },
  {
   "cell_type": "code",
   "execution_count": 9,
   "metadata": {},
   "outputs": [
    {
     "name": "stdout",
     "output_type": "stream",
     "text": [
      "emmanuelkimtai8 Tweeted: RT @ochegoken: You cannot promote #BBI &amp; be against high fuel prices. #BBI is the main cause of higher taxes. #BBI will make the cost of li…\n",
      "philblesd Tweeted: RT @KenyanMutwiri: A trailer of life after BBI , just a KIONJO, it is 122.81 in Nairobi na bado, we dont hv a PM, DPMs. All of them haven't…\n",
      "choosetzuyu Tweeted: RT @cryptos_promo: I\"II Give $250 One Random Person \n",
      "Next 7 Day\n",
      "\n",
      "Just Retweet + Follow Me \n",
      "\n",
      "Like &amp; Retweet My pinned Comment\n",
      "#BTc #BBI #ETH…\n",
      "Brightalhelies Tweeted: RT @cryptos_promo: I\"II Give $250 One Random Person \n",
      "Next 7 Day\n",
      "\n",
      "Just Retweet + Follow Me \n",
      "\n",
      "Like &amp; Retweet My pinned Comment\n",
      "#BTc #BBI #ETH…\n",
      "litmooni Tweeted: RT @cryptos_promo: I\"II Give $250 One Random Person \n",
      "Next 7 Day\n",
      "\n",
      "Just Retweet + Follow Me \n",
      "\n",
      "Like &amp; Retweet My pinned Comment\n",
      "#BTc #BBI #ETH…\n",
      "mogarejekibrian Tweeted: RT @cryptos_promo: I\"II Give $250 One Random Person \n",
      "Next 7 Day\n",
      "\n",
      "Just Retweet + Follow Me \n",
      "\n",
      "Like &amp; Retweet My pinned Comment\n",
      "#BTc #BBI #ETH…\n",
      "Omosh_Afune Tweeted: @BettyCheptooR @RabbitTheKing BBI na high fuel prices zinahusiana aje? Just enlighten me on this.\n",
      "too_brian88 Tweeted: RT @JKNjenga: BBI proposes 35% for counties; but, by the time UK leaves office, even 5% might not be possible.\n",
      "kinuthialex Tweeted: RT @KenyanMutwiri: A trailer of life after BBI , just a KIONJO, it is 122.81 in Nairobi na bado, we dont hv a PM, DPMs. All of them haven't…\n",
      "jeffsmetagaming Tweeted: RT @cryptos_promo: I\"II Give $250 One Random Person \n",
      "Next 7 Day\n",
      "\n",
      "Just Retweet + Follow Me \n",
      "\n",
      "Like &amp; Retweet My pinned Comment\n",
      "#BTc #BBI #ETH…\n",
      "CMukeni Tweeted: RT @TonyMurega: High cost of living &amp; youth joblessness led to a fall of govt in Tunisia &amp; sparked the Arab spring.\n",
      "In Kenya, high cost of…\n",
      "55dipietro5 Tweeted: RT @cryptos_promo: I\"II Give $250 One Random Person \n",
      "Next 7 Day\n",
      "\n",
      "Just Retweet + Follow Me \n",
      "\n",
      "Like &amp; Retweet My pinned Comment\n",
      "#BTc #BBI #ETH…\n",
      "inisa943 Tweeted: RT @cryptos_promo: I\"II Give $250 One Random Person \n",
      "Next 7 Day\n",
      "\n",
      "Just Retweet + Follow Me \n",
      "\n",
      "Like &amp; Retweet My pinned Comment\n",
      "#BTc #BBI #ETH…\n",
      "CaxtonMukhwana2 Tweeted: Thems bbi fuel going up budget planning is this reason we pass it before reading\n",
      "AaronBobeck Tweeted: New #FarmEquipment #ForSale:\n",
      "BBI Endurance Litter Spreader\n",
      "\n",
      "22ft / Low profile\n",
      "1000 PTO\n",
      "Only used one season, littl… https://t.co/2kXiY2cwd0\n"
     ]
    }
   ],
   "source": [
    "# Creating the API object while passing in auth information\n",
    "api = tweepy.API(auth)\n",
    "\n",
    "# The search term you want to find\n",
    "query=\"BBI\"\n",
    "\n",
    "#Language code (follows ISO 639-1 standards\n",
    "language=\"en\"\n",
    "\n",
    "# Calling the user_timeline function with our parameters\n",
    "results=api.search(q=query,lang=language)\n",
    "\n",
    "for tweet in results:\n",
    "    print (tweet.user.screen_name,\"Tweeted:\",tweet.text)"
   ]
  },
  {
   "cell_type": "code",
   "execution_count": 10,
   "metadata": {},
   "outputs": [],
   "source": [
    "#Remove URLs from tweets for analysis\n",
    "def remove_url(txt):\n",
    "    #Remove Urls from the text string\n",
    "    \"\"\"Parameters:-----txt:string----a text string that you want to parse and remove urls\n",
    "    Returns ----The same txt with urls removed\"\"\"\n",
    "    return \" \".join(re.sub(\"([^0-9A-Za-z \\t])|(\\w+:\\/\\/\\S+)\",\"\",txt).split())"
   ]
  },
  {
   "cell_type": "code",
   "execution_count": 11,
   "metadata": {},
   "outputs": [],
   "source": [
    "import tweepy as tw\n",
    "api=tw.API(auth,wait_on_rate_limit=True)"
   ]
  },
  {
   "cell_type": "code",
   "execution_count": 12,
   "metadata": {},
   "outputs": [],
   "source": [
    "#Create a custom search term and define the number of tweets\n",
    "search_term=\"#Reject+BBI -filter:retweets\"\n",
    "\n",
    "tweets=tw.Cursor(api.search,q=search_term,lang=\"en\",since='2020-11-24').items(10000)\n",
    "\n",
    "#Remove URLs\n",
    "tweets_no_urls=[remove_url(tweet.text) for tweet in tweets]"
   ]
  },
  {
   "cell_type": "code",
   "execution_count": 13,
   "metadata": {},
   "outputs": [
    {
     "data": {
      "text/plain": [
       "(0.0,\n",
       " TextBlob(\"TeamWiliamRuto RailaOdinga We are watching viva reject BBI nonses\"))"
      ]
     },
     "execution_count": 13,
     "metadata": {},
     "output_type": "execute_result"
    }
   ],
   "source": [
    "#Analyze sentiments in tweets\n",
    "#Create textblob objects of the tweets\n",
    "sentiment_objects=[TextBlob(tweet) for tweet in tweets_no_urls]\n",
    "\n",
    "sentiment_objects[0].polarity,sentiment_objects[0]"
   ]
  },
  {
   "cell_type": "code",
   "execution_count": 14,
   "metadata": {},
   "outputs": [
    {
     "data": {
      "text/plain": [
       "[0.0, 'TeamWiliamRuto RailaOdinga We are watching viva reject BBI nonses']"
      ]
     },
     "execution_count": 14,
     "metadata": {},
     "output_type": "execute_result"
    }
   ],
   "source": [
    "# Create list of polarity valuesx and tweet text\n",
    "sentiment_values = [[tweet.sentiment.polarity, str(tweet)] for tweet in sentiment_objects]\n",
    "\n",
    "sentiment_values[0]"
   ]
  },
  {
   "cell_type": "code",
   "execution_count": 15,
   "metadata": {},
   "outputs": [
    {
     "data": {
      "text/html": [
       "<div>\n",
       "<style scoped>\n",
       "    .dataframe tbody tr th:only-of-type {\n",
       "        vertical-align: middle;\n",
       "    }\n",
       "\n",
       "    .dataframe tbody tr th {\n",
       "        vertical-align: top;\n",
       "    }\n",
       "\n",
       "    .dataframe thead th {\n",
       "        text-align: right;\n",
       "    }\n",
       "</style>\n",
       "<table border=\"1\" class=\"dataframe\">\n",
       "  <thead>\n",
       "    <tr style=\"text-align: right;\">\n",
       "      <th></th>\n",
       "      <th>polarity</th>\n",
       "      <th>tweet</th>\n",
       "    </tr>\n",
       "  </thead>\n",
       "  <tbody>\n",
       "    <tr>\n",
       "      <th>0</th>\n",
       "      <td>0.0</td>\n",
       "      <td>TeamWiliamRuto RailaOdinga We are watching viv...</td>\n",
       "    </tr>\n",
       "    <tr>\n",
       "      <th>1</th>\n",
       "      <td>0.0</td>\n",
       "      <td>kiprohon What is the meaning of maajabu So eve...</td>\n",
       "    </tr>\n",
       "  </tbody>\n",
       "</table>\n",
       "</div>"
      ],
      "text/plain": [
       "   polarity                                              tweet\n",
       "0       0.0  TeamWiliamRuto RailaOdinga We are watching viv...\n",
       "1       0.0  kiprohon What is the meaning of maajabu So eve..."
      ]
     },
     "execution_count": 15,
     "metadata": {},
     "output_type": "execute_result"
    }
   ],
   "source": [
    "# Create dataframe containing the polarity value and tweet text\n",
    "sentiment_df = pd.DataFrame(sentiment_values, columns=[\"polarity\", \"tweet\"])\n",
    "\n",
    "sentiment_df.head()"
   ]
  },
  {
   "cell_type": "code",
   "execution_count": 16,
   "metadata": {},
   "outputs": [
    {
     "data": {
      "image/png": "[encoded data removed]",
      "text/plain": [
       "<Figure size 576x432 with 1 Axes>"
      ]
     },
     "metadata": {},
     "output_type": "display_data"
    }
   ],
   "source": [
    "fig, ax = plt.subplots(figsize=(8, 6))\n",
    "\n",
    "# Plot histogram of the polarity values\n",
    "sentiment_df.hist(bins=[-1, -0.75, -0.5, -0.25, 0.25, 0.5, 0.75, 1],\n",
    "             ax=ax,\n",
    "             color=\"purple\")\n",
    "\n",
    "plt.title(\"Sentiments from Tweets on BBI\")\n",
    "plt.show()"
   ]
  },
  {
   "cell_type": "code",
   "execution_count": 17,
   "metadata": {},
   "outputs": [],
   "source": [
    "# Remove polarity values equal to zero\n",
    "sentiment_df = sentiment_df[sentiment_df.polarity != 0]"
   ]
  },
  {
   "cell_type": "code",
   "execution_count": 18,
   "metadata": {},
   "outputs": [
    {
     "data": {
      "image/png": "[encoded data removed]",
      "text/plain": [
       "<Figure size 576x432 with 1 Axes>"
      ]
     },
     "metadata": {},
     "output_type": "display_data"
    }
   ],
   "source": [
    "fig, ax = plt.subplots(figsize=(8, 6))\n",
    "\n",
    "# Plot histogram with break at zero\n",
    "sentiment_df.hist(bins=[-1, -0.75, -0.5, -0.25, 0.0, 0.25, 0.5, 0.75, 1],\n",
    "             ax=ax,\n",
    "             color=\"purple\")\n",
    "\n",
    "plt.title(\"Sentiments from Tweets on BBI\")\n",
    "plt.show()"
   ]
  },
  {
   "cell_type": "code",
   "execution_count": 19,
   "metadata": {},
   "outputs": [],
   "source": [
    "from textblob import TextBlob"
   ]
  },
  {
   "cell_type": "code",
   "execution_count": 20,
   "metadata": {},
   "outputs": [
    {
     "ename": "SyntaxError",
     "evalue": "invalid character in identifier (<ipython-input-20-3b548d6c7553>, line 12)",
     "output_type": "error",
     "traceback": [
      "\u001b[1;36m  File \u001b[1;32m\"<ipython-input-20-3b548d6c7553>\"\u001b[1;36m, line \u001b[1;32m12\u001b[0m\n\u001b[1;33m    tweet[‘TextBlob_Subjectivity’] =    tweet[‘tweet’].apply(getSubjectivity)\u001b[0m\n\u001b[1;37m                                ^\u001b[0m\n\u001b[1;31mSyntaxError\u001b[0m\u001b[1;31m:\u001b[0m invalid character in identifier\n"
     ]
    }
   ],
   "source": [
    "#calculate subjectivity,polarity and give it a score based on the threshold set\n",
    "\n",
    "def sentiment_analysis(tweet):\n",
    " def getSubjectivity(text):\n",
    "   return TextBlob(text).sentiment.subjectivity\n",
    "  \n",
    " #Create a function to get the polarity\n",
    " def getPolarity(text):\n",
    "   return TextBlob(text).sentiment.polarity\n",
    "  \n",
    " #Create two new columns ‘Subjectivity’ & ‘Polarity’\n",
    " tweet[‘TextBlob_Subjectivity’] =    tweet[‘tweet’].apply(getSubjectivity)\n",
    " tweet [‘TextBlob_Polarity’] = tweet[‘tweet’].apply(getPolarity)\n",
    " def getAnalysis(score):\n",
    "  if score < 0:\n",
    "    return ‘Negative’\n",
    "  elif score == 0:\n",
    "    return ‘Neutral’\n",
    "  else:\n",
    "    return ‘Positive’\n",
    " tweet [‘TextBlob_Analysis’] = tweet  [‘TextBlob_Polarity’].apply(getAnalysis )\n",
    "return tweet"
   ]
  },
  {
   "cell_type": "code",
   "execution_count": null,
   "metadata": {},
   "outputs": [],
   "source": [
    "user=api.me() print (user.name)"
   ]
  },
  {
   "cell_type": "code",
   "execution_count": null,
   "metadata": {},
   "outputs": [],
   "source": []
  }
 ],
 "metadata": {
  "kernelspec": {
   "display_name": "Python 3",
   "language": "python",
   "name": "python3"
  },
  "language_info": {
   "codemirror_mode": {
    "name": "ipython",
    "version": 3
   },
   "file_extension": ".py",
   "mimetype": "text/x-python",
   "name": "python",
   "nbconvert_exporter": "python",
   "pygments_lexer": "ipython3",
   "version": "3.8.3"
  }
 },
 "nbformat": 4,
 "nbformat_minor": 4
}
